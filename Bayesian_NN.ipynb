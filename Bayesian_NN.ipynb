{
 "cells": [
  {
   "cell_type": "code",
   "execution_count": 1,
   "metadata": {},
   "outputs": [],
   "source": [
    "# Importing all the necessary packages\n",
    "\n",
    "import random\n",
    "import pandas as pd\n",
    "import seaborn as sns\n",
    "import numpy as np\n",
    "from sklearn.decomposition import PCA\n",
    "from sklearn import metrics\n",
    "from sklearn import preprocessing\n",
    "import xgboost as xgb\n",
    "from sklearn.ensemble import RandomForestClassifier\n",
    "from sklearn.model_selection import train_test_split\n",
    "from sklearn.metrics import classification_report\n",
    "from sklearn.metrics import confusion_matrix\n",
    "from imblearn.over_sampling import SMOTE\n",
    "from imblearn.over_sampling import ADASYN\n",
    "from imblearn.combine import SMOTEENN\n",
    "import matplotlib.pyplot as plt\n",
    "\n",
    "import torch\n",
    "import torch.nn as nn\n",
    "import torch.optim as optim\n",
    "import torchbnn as bnn"
   ]
  },
  {
   "cell_type": "code",
   "execution_count": 2,
   "metadata": {},
   "outputs": [
    {
     "data": {
      "text/html": [
       "<div>\n",
       "<style scoped>\n",
       "    .dataframe tbody tr th:only-of-type {\n",
       "        vertical-align: middle;\n",
       "    }\n",
       "\n",
       "    .dataframe tbody tr th {\n",
       "        vertical-align: top;\n",
       "    }\n",
       "\n",
       "    .dataframe thead th {\n",
       "        text-align: right;\n",
       "    }\n",
       "</style>\n",
       "<table border=\"1\" class=\"dataframe\">\n",
       "  <thead>\n",
       "    <tr style=\"text-align: right;\">\n",
       "      <th></th>\n",
       "      <th>sc_ra</th>\n",
       "      <th>sc_dec</th>\n",
       "      <th>sc_poserr</th>\n",
       "      <th>sc_det_ml</th>\n",
       "      <th>sc_ep_1_flux</th>\n",
       "      <th>sc_ep_2_flux</th>\n",
       "      <th>sc_ep_3_flux</th>\n",
       "      <th>sc_ep_4_flux</th>\n",
       "      <th>sc_ep_5_flux</th>\n",
       "      <th>sc_ep_8_flux</th>\n",
       "      <th>sc_ep_9_flux</th>\n",
       "      <th>sc_hr1</th>\n",
       "      <th>sc_hr2</th>\n",
       "      <th>sc_hr3</th>\n",
       "      <th>sc_hr4</th>\n",
       "      <th>sc_extent</th>\n",
       "      <th>sc_ep_8_fmin</th>\n",
       "      <th>sc_ep_8_fmax</th>\n",
       "      <th>Class</th>\n",
       "    </tr>\n",
       "  </thead>\n",
       "  <tbody>\n",
       "    <tr>\n",
       "      <th>0</th>\n",
       "      <td>1.836559</td>\n",
       "      <td>20.122780</td>\n",
       "      <td>0.508007</td>\n",
       "      <td>408.3659</td>\n",
       "      <td>2.380000e-15</td>\n",
       "      <td>7.000000e-15</td>\n",
       "      <td>9.370000e-15</td>\n",
       "      <td>1.060000e-14</td>\n",
       "      <td>1.970000e-14</td>\n",
       "      <td>4.850000e-14</td>\n",
       "      <td>3.080000e-14</td>\n",
       "      <td>0.389105</td>\n",
       "      <td>-0.002790</td>\n",
       "      <td>-0.401496</td>\n",
       "      <td>-0.120218</td>\n",
       "      <td>0.0</td>\n",
       "      <td>2.650000e-14</td>\n",
       "      <td>9.910000e-14</td>\n",
       "      <td>0</td>\n",
       "    </tr>\n",
       "    <tr>\n",
       "      <th>1</th>\n",
       "      <td>87.383962</td>\n",
       "      <td>-21.924875</td>\n",
       "      <td>0.336117</td>\n",
       "      <td>2672.8470</td>\n",
       "      <td>7.140000e-15</td>\n",
       "      <td>1.990000e-14</td>\n",
       "      <td>2.800000e-14</td>\n",
       "      <td>3.040000e-14</td>\n",
       "      <td>5.990000e-14</td>\n",
       "      <td>1.460000e-13</td>\n",
       "      <td>8.370000e-14</td>\n",
       "      <td>0.444257</td>\n",
       "      <td>0.119971</td>\n",
       "      <td>-0.443130</td>\n",
       "      <td>-0.331475</td>\n",
       "      <td>0.0</td>\n",
       "      <td>1.430000e-13</td>\n",
       "      <td>1.490000e-13</td>\n",
       "      <td>0</td>\n",
       "    </tr>\n",
       "    <tr>\n",
       "      <th>2</th>\n",
       "      <td>159.945875</td>\n",
       "      <td>-5.116026</td>\n",
       "      <td>0.521204</td>\n",
       "      <td>583.1679</td>\n",
       "      <td>2.380000e-15</td>\n",
       "      <td>7.920000e-15</td>\n",
       "      <td>8.050000e-15</td>\n",
       "      <td>9.410000e-15</td>\n",
       "      <td>4.540000e-15</td>\n",
       "      <td>3.030000e-14</td>\n",
       "      <td>2.890000e-14</td>\n",
       "      <td>0.515240</td>\n",
       "      <td>0.000777</td>\n",
       "      <td>-0.370514</td>\n",
       "      <td>-0.495102</td>\n",
       "      <td>0.0</td>\n",
       "      <td>2.010000e-14</td>\n",
       "      <td>6.730000e-14</td>\n",
       "      <td>0</td>\n",
       "    </tr>\n",
       "    <tr>\n",
       "      <th>3</th>\n",
       "      <td>38.766442</td>\n",
       "      <td>32.677084</td>\n",
       "      <td>0.689360</td>\n",
       "      <td>292.4774</td>\n",
       "      <td>7.120000e-16</td>\n",
       "      <td>6.610000e-15</td>\n",
       "      <td>2.400000e-14</td>\n",
       "      <td>6.570000e-14</td>\n",
       "      <td>8.240000e-14</td>\n",
       "      <td>1.860000e-13</td>\n",
       "      <td>7.540000e-14</td>\n",
       "      <td>0.849070</td>\n",
       "      <td>0.559812</td>\n",
       "      <td>-0.026348</td>\n",
       "      <td>-0.400924</td>\n",
       "      <td>0.0</td>\n",
       "      <td>1.580000e-13</td>\n",
       "      <td>2.640000e-13</td>\n",
       "      <td>0</td>\n",
       "    </tr>\n",
       "    <tr>\n",
       "      <th>4</th>\n",
       "      <td>141.661199</td>\n",
       "      <td>36.400714</td>\n",
       "      <td>0.309602</td>\n",
       "      <td>2871.4660</td>\n",
       "      <td>2.670000e-15</td>\n",
       "      <td>9.070000e-15</td>\n",
       "      <td>1.980000e-14</td>\n",
       "      <td>4.530000e-14</td>\n",
       "      <td>5.810000e-14</td>\n",
       "      <td>1.360000e-13</td>\n",
       "      <td>6.460000e-14</td>\n",
       "      <td>0.497494</td>\n",
       "      <td>0.319506</td>\n",
       "      <td>-0.113438</td>\n",
       "      <td>-0.504149</td>\n",
       "      <td>0.0</td>\n",
       "      <td>1.360000e-13</td>\n",
       "      <td>1.360000e-13</td>\n",
       "      <td>0</td>\n",
       "    </tr>\n",
       "  </tbody>\n",
       "</table>\n",
       "</div>"
      ],
      "text/plain": [
       "        sc_ra     sc_dec  sc_poserr  sc_det_ml  sc_ep_1_flux  sc_ep_2_flux  \\\n",
       "0    1.836559  20.122780   0.508007   408.3659  2.380000e-15  7.000000e-15   \n",
       "1   87.383962 -21.924875   0.336117  2672.8470  7.140000e-15  1.990000e-14   \n",
       "2  159.945875  -5.116026   0.521204   583.1679  2.380000e-15  7.920000e-15   \n",
       "3   38.766442  32.677084   0.689360   292.4774  7.120000e-16  6.610000e-15   \n",
       "4  141.661199  36.400714   0.309602  2871.4660  2.670000e-15  9.070000e-15   \n",
       "\n",
       "   sc_ep_3_flux  sc_ep_4_flux  sc_ep_5_flux  sc_ep_8_flux  sc_ep_9_flux  \\\n",
       "0  9.370000e-15  1.060000e-14  1.970000e-14  4.850000e-14  3.080000e-14   \n",
       "1  2.800000e-14  3.040000e-14  5.990000e-14  1.460000e-13  8.370000e-14   \n",
       "2  8.050000e-15  9.410000e-15  4.540000e-15  3.030000e-14  2.890000e-14   \n",
       "3  2.400000e-14  6.570000e-14  8.240000e-14  1.860000e-13  7.540000e-14   \n",
       "4  1.980000e-14  4.530000e-14  5.810000e-14  1.360000e-13  6.460000e-14   \n",
       "\n",
       "     sc_hr1    sc_hr2    sc_hr3    sc_hr4  sc_extent  sc_ep_8_fmin  \\\n",
       "0  0.389105 -0.002790 -0.401496 -0.120218        0.0  2.650000e-14   \n",
       "1  0.444257  0.119971 -0.443130 -0.331475        0.0  1.430000e-13   \n",
       "2  0.515240  0.000777 -0.370514 -0.495102        0.0  2.010000e-14   \n",
       "3  0.849070  0.559812 -0.026348 -0.400924        0.0  1.580000e-13   \n",
       "4  0.497494  0.319506 -0.113438 -0.504149        0.0  1.360000e-13   \n",
       "\n",
       "   sc_ep_8_fmax  Class  \n",
       "0  9.910000e-14      0  \n",
       "1  1.490000e-13      0  \n",
       "2  6.730000e-14      0  \n",
       "3  2.640000e-13      0  \n",
       "4  1.360000e-13      0  "
      ]
     },
     "execution_count": 2,
     "metadata": {},
     "output_type": "execute_result"
    }
   ],
   "source": [
    "data=pd.read_csv('C:/Users/BHASKAR BOSE/Dropbox/My PC (LAPTOP-7GV3U44E)/Downloads/XMM_ML.csv')\n",
    "data.head()"
   ]
  },
  {
   "cell_type": "code",
   "execution_count": 3,
   "metadata": {},
   "outputs": [
    {
     "name": "stdout",
     "output_type": "stream",
     "text": [
      "Shape of the data is (23017, 19)\n"
     ]
    }
   ],
   "source": [
    "print(\"Shape of the data is {}\".format(data.shape))"
   ]
  },
  {
   "cell_type": "code",
   "execution_count": 4,
   "metadata": {},
   "outputs": [
    {
     "data": {
      "text/plain": [
       "sc_ra             0\n",
       "sc_dec            0\n",
       "sc_poserr         0\n",
       "sc_det_ml         0\n",
       "sc_ep_1_flux      0\n",
       "sc_ep_2_flux      0\n",
       "sc_ep_3_flux      0\n",
       "sc_ep_4_flux      0\n",
       "sc_ep_5_flux      0\n",
       "sc_ep_8_flux      0\n",
       "sc_ep_9_flux      0\n",
       "sc_hr1           34\n",
       "sc_hr2           13\n",
       "sc_hr3           44\n",
       "sc_hr4          246\n",
       "sc_extent         0\n",
       "sc_ep_8_fmin      0\n",
       "sc_ep_8_fmax      0\n",
       "Class             0\n",
       "dtype: int64"
      ]
     },
     "execution_count": 4,
     "metadata": {},
     "output_type": "execute_result"
    }
   ],
   "source": [
    "data.isnull().sum()"
   ]
  },
  {
   "cell_type": "code",
   "execution_count": 5,
   "metadata": {},
   "outputs": [
    {
     "data": {
      "text/plain": [
       "<matplotlib.axes._subplots.AxesSubplot at 0x238645e37c8>"
      ]
     },
     "execution_count": 5,
     "metadata": {},
     "output_type": "execute_result"
    },
    {
     "data": {
      "image/png": "[encoded data removed]",
      "text/plain": [
       "<Figure size 432x288 with 2 Axes>"
      ]
     },
     "metadata": {
      "needs_background": "light"
     },
     "output_type": "display_data"
    }
   ],
   "source": [
    "# Some basic EDA to investigate the data\n",
    "\n",
    "data=data.dropna()\n",
    "sns.heatmap(data.corr())"
   ]
  },
  {
   "cell_type": "code",
   "execution_count": 7,
   "metadata": {},
   "outputs": [
    {
     "data": {
      "text/html": [
       "<div>\n",
       "<style scoped>\n",
       "    .dataframe tbody tr th:only-of-type {\n",
       "        vertical-align: middle;\n",
       "    }\n",
       "\n",
       "    .dataframe tbody tr th {\n",
       "        vertical-align: top;\n",
       "    }\n",
       "\n",
       "    .dataframe thead th {\n",
       "        text-align: right;\n",
       "    }\n",
       "</style>\n",
       "<table border=\"1\" class=\"dataframe\">\n",
       "  <thead>\n",
       "    <tr style=\"text-align: right;\">\n",
       "      <th></th>\n",
       "      <th>sc_ra</th>\n",
       "      <th>sc_dec</th>\n",
       "      <th>sc_poserr</th>\n",
       "      <th>sc_det_ml</th>\n",
       "      <th>sc_ep_1_flux</th>\n",
       "      <th>sc_ep_2_flux</th>\n",
       "      <th>sc_ep_3_flux</th>\n",
       "      <th>sc_ep_4_flux</th>\n",
       "      <th>sc_ep_5_flux</th>\n",
       "      <th>sc_ep_8_flux</th>\n",
       "      <th>sc_ep_9_flux</th>\n",
       "      <th>sc_hr1</th>\n",
       "      <th>sc_hr2</th>\n",
       "      <th>sc_hr3</th>\n",
       "      <th>sc_hr4</th>\n",
       "      <th>sc_extent</th>\n",
       "      <th>sc_ep_8_fmin</th>\n",
       "      <th>sc_ep_8_fmax</th>\n",
       "    </tr>\n",
       "  </thead>\n",
       "  <tbody>\n",
       "    <tr>\n",
       "      <th>0</th>\n",
       "      <td>-1.623851</td>\n",
       "      <td>0.451717</td>\n",
       "      <td>-0.586389</td>\n",
       "      <td>-0.065919</td>\n",
       "      <td>-0.035704</td>\n",
       "      <td>-0.081287</td>\n",
       "      <td>-0.053214</td>\n",
       "      <td>-0.042491</td>\n",
       "      <td>-0.039007</td>\n",
       "      <td>-0.048602</td>\n",
       "      <td>-0.058635</td>\n",
       "      <td>0.033827</td>\n",
       "      <td>0.061084</td>\n",
       "      <td>0.127151</td>\n",
       "      <td>0.302817</td>\n",
       "      <td>-0.16029</td>\n",
       "      <td>-0.045165</td>\n",
       "      <td>-0.061084</td>\n",
       "    </tr>\n",
       "    <tr>\n",
       "      <th>1</th>\n",
       "      <td>-0.730777</td>\n",
       "      <td>-0.685126</td>\n",
       "      <td>-0.837420</td>\n",
       "      <td>-0.065047</td>\n",
       "      <td>-0.034653</td>\n",
       "      <td>-0.077546</td>\n",
       "      <td>-0.050662</td>\n",
       "      <td>-0.041457</td>\n",
       "      <td>-0.038055</td>\n",
       "      <td>-0.047158</td>\n",
       "      <td>-0.056369</td>\n",
       "      <td>0.186057</td>\n",
       "      <td>0.370809</td>\n",
       "      <td>0.008002</td>\n",
       "      <td>-0.104440</td>\n",
       "      <td>-0.16029</td>\n",
       "      <td>-0.043378</td>\n",
       "      <td>-0.060547</td>\n",
       "    </tr>\n",
       "    <tr>\n",
       "      <th>2</th>\n",
       "      <td>0.026734</td>\n",
       "      <td>-0.230665</td>\n",
       "      <td>-0.567116</td>\n",
       "      <td>-0.065852</td>\n",
       "      <td>-0.035704</td>\n",
       "      <td>-0.081021</td>\n",
       "      <td>-0.053394</td>\n",
       "      <td>-0.042553</td>\n",
       "      <td>-0.039366</td>\n",
       "      <td>-0.048872</td>\n",
       "      <td>-0.058716</td>\n",
       "      <td>0.381981</td>\n",
       "      <td>0.070083</td>\n",
       "      <td>0.215816</td>\n",
       "      <td>-0.419877</td>\n",
       "      <td>-0.16029</td>\n",
       "      <td>-0.045263</td>\n",
       "      <td>-0.061426</td>\n",
       "    </tr>\n",
       "    <tr>\n",
       "      <th>3</th>\n",
       "      <td>-1.238321</td>\n",
       "      <td>0.791147</td>\n",
       "      <td>-0.321538</td>\n",
       "      <td>-0.065964</td>\n",
       "      <td>-0.036073</td>\n",
       "      <td>-0.081400</td>\n",
       "      <td>-0.051210</td>\n",
       "      <td>-0.039614</td>\n",
       "      <td>-0.037523</td>\n",
       "      <td>-0.046565</td>\n",
       "      <td>-0.056725</td>\n",
       "      <td>1.303412</td>\n",
       "      <td>1.480530</td>\n",
       "      <td>1.200751</td>\n",
       "      <td>-0.238322</td>\n",
       "      <td>-0.16029</td>\n",
       "      <td>-0.043148</td>\n",
       "      <td>-0.059310</td>\n",
       "    </tr>\n",
       "    <tr>\n",
       "      <th>4</th>\n",
       "      <td>-0.164149</td>\n",
       "      <td>0.891823</td>\n",
       "      <td>-0.876142</td>\n",
       "      <td>-0.064970</td>\n",
       "      <td>-0.035640</td>\n",
       "      <td>-0.080687</td>\n",
       "      <td>-0.051785</td>\n",
       "      <td>-0.040679</td>\n",
       "      <td>-0.038098</td>\n",
       "      <td>-0.047306</td>\n",
       "      <td>-0.057187</td>\n",
       "      <td>0.332999</td>\n",
       "      <td>0.874238</td>\n",
       "      <td>0.951518</td>\n",
       "      <td>-0.437319</td>\n",
       "      <td>-0.16029</td>\n",
       "      <td>-0.043485</td>\n",
       "      <td>-0.060687</td>\n",
       "    </tr>\n",
       "  </tbody>\n",
       "</table>\n",
       "</div>"
      ],
      "text/plain": [
       "      sc_ra    sc_dec  sc_poserr  sc_det_ml  sc_ep_1_flux  sc_ep_2_flux  \\\n",
       "0 -1.623851  0.451717  -0.586389  -0.065919     -0.035704     -0.081287   \n",
       "1 -0.730777 -0.685126  -0.837420  -0.065047     -0.034653     -0.077546   \n",
       "2  0.026734 -0.230665  -0.567116  -0.065852     -0.035704     -0.081021   \n",
       "3 -1.238321  0.791147  -0.321538  -0.065964     -0.036073     -0.081400   \n",
       "4 -0.164149  0.891823  -0.876142  -0.064970     -0.035640     -0.080687   \n",
       "\n",
       "   sc_ep_3_flux  sc_ep_4_flux  sc_ep_5_flux  sc_ep_8_flux  sc_ep_9_flux  \\\n",
       "0     -0.053214     -0.042491     -0.039007     -0.048602     -0.058635   \n",
       "1     -0.050662     -0.041457     -0.038055     -0.047158     -0.056369   \n",
       "2     -0.053394     -0.042553     -0.039366     -0.048872     -0.058716   \n",
       "3     -0.051210     -0.039614     -0.037523     -0.046565     -0.056725   \n",
       "4     -0.051785     -0.040679     -0.038098     -0.047306     -0.057187   \n",
       "\n",
       "     sc_hr1    sc_hr2    sc_hr3    sc_hr4  sc_extent  sc_ep_8_fmin  \\\n",
       "0  0.033827  0.061084  0.127151  0.302817   -0.16029     -0.045165   \n",
       "1  0.186057  0.370809  0.008002 -0.104440   -0.16029     -0.043378   \n",
       "2  0.381981  0.070083  0.215816 -0.419877   -0.16029     -0.045263   \n",
       "3  1.303412  1.480530  1.200751 -0.238322   -0.16029     -0.043148   \n",
       "4  0.332999  0.874238  0.951518 -0.437319   -0.16029     -0.043485   \n",
       "\n",
       "   sc_ep_8_fmax  \n",
       "0     -0.061084  \n",
       "1     -0.060547  \n",
       "2     -0.061426  \n",
       "3     -0.059310  \n",
       "4     -0.060687  "
      ]
     },
     "execution_count": 7,
     "metadata": {},
     "output_type": "execute_result"
    }
   ],
   "source": [
    "# Standardisation for better training results\n",
    "\n",
    "scaler=preprocessing.StandardScaler()\n",
    "\n",
    "data.index=np.array(range(22715))\n",
    "main_data=data[data.columns[0:-1]]\n",
    "labels=data[data.columns[-1]]\n",
    "columns=main_data.columns\n",
    "\n",
    "main_data=scaler.fit_transform(main_data)\n",
    "main_data\n",
    "\n",
    "main_data=pd.DataFrame(main_data,columns=columns)\n",
    "main_data.head()"
   ]
  },
  {
   "cell_type": "code",
   "execution_count": 8,
   "metadata": {},
   "outputs": [
    {
     "name": "stderr",
     "output_type": "stream",
     "text": [
      "C:\\Users\\BHASKAR BOSE\\Anaconda3\\lib\\site-packages\\seaborn\\distributions.py:2551: FutureWarning: `distplot` is a deprecated function and will be removed in a future version. Please adapt your code to use either `displot` (a figure-level function with similar flexibility) or `histplot` (an axes-level function for histograms).\n",
      "  warnings.warn(msg, FutureWarning)\n"
     ]
    },
    {
     "data": {
      "text/plain": [
       "<matplotlib.axes._subplots.AxesSubplot at 0x23874d55d48>"
      ]
     },
     "execution_count": 8,
     "metadata": {},
     "output_type": "execute_result"
    },
    {
     "data": {
      "image/png": "[encoded data removed]",
      "text/plain": [
       "<Figure size 432x288 with 1 Axes>"
      ]
     },
     "metadata": {
      "needs_background": "light"
     },
     "output_type": "display_data"
    }
   ],
   "source": [
    "# According to the above plot it seems that sc_hr1 is the most correlated to the Class variable\n",
    "\n",
    "sns.distplot(main_data['sc_hr1'])"
   ]
  },
  {
   "cell_type": "code",
   "execution_count": 9,
   "metadata": {},
   "outputs": [
    {
     "data": {
      "image/png": "[encoded data removed]",
      "text/plain": [
       "<Figure size 432x288 with 1 Axes>"
      ]
     },
     "metadata": {
      "needs_background": "light"
     },
     "output_type": "display_data"
    }
   ],
   "source": [
    "# Lets try to plot the data here according to column\n",
    "# First we reduce the data into its 2 principal components, after which we plot the data according to its column\n",
    "\n",
    "pca=PCA(n_components=2)\n",
    "csv_data=pca.fit_transform(main_data)\n",
    "\n",
    "c1=(1.0,0.0,0.0,1.0)\n",
    "c2=(0.0,1.0,0.0,1.0)\n",
    "c3=(0.0,0.0,1.0,1.0)\n",
    "c4=(1.0,1.0,0.0,1.0)\n",
    "c5=(0.0,1.0,1.0,1.0)\n",
    "c6=(1.0,0.0,1.0,1.0)\n",
    "c7=(1.0,1.0,0.5,1.0)\n",
    "colormap=np.array([c1,c2,c3,c4,c5,c6,c7])\n",
    "\n",
    "label_data=np.array(labels)\n",
    "\n",
    "plt.scatter(csv_data[:,0], csv_data[:,1],s=100, c=colormap[label_data])\n",
    "plt.show()"
   ]
  },
  {
   "cell_type": "code",
   "execution_count": 10,
   "metadata": {},
   "outputs": [],
   "source": [
    "X_train,X_test,Y_train,Y_test = train_test_split(main_data, labels, stratify=labels, test_size=0.2)"
   ]
  },
  {
   "cell_type": "code",
   "execution_count": 39,
   "metadata": {},
   "outputs": [
    {
     "data": {
      "text/html": [
       "<div>\n",
       "<style scoped>\n",
       "    .dataframe tbody tr th:only-of-type {\n",
       "        vertical-align: middle;\n",
       "    }\n",
       "\n",
       "    .dataframe tbody tr th {\n",
       "        vertical-align: top;\n",
       "    }\n",
       "\n",
       "    .dataframe thead th {\n",
       "        text-align: right;\n",
       "    }\n",
       "</style>\n",
       "<table border=\"1\" class=\"dataframe\">\n",
       "  <thead>\n",
       "    <tr style=\"text-align: right;\">\n",
       "      <th></th>\n",
       "      <th>sc_ra</th>\n",
       "      <th>sc_dec</th>\n",
       "      <th>sc_poserr</th>\n",
       "      <th>sc_det_ml</th>\n",
       "      <th>sc_ep_1_flux</th>\n",
       "      <th>sc_ep_2_flux</th>\n",
       "      <th>sc_ep_3_flux</th>\n",
       "      <th>sc_ep_4_flux</th>\n",
       "      <th>sc_ep_5_flux</th>\n",
       "      <th>sc_ep_8_flux</th>\n",
       "      <th>sc_ep_9_flux</th>\n",
       "      <th>sc_hr1</th>\n",
       "      <th>sc_hr2</th>\n",
       "      <th>sc_hr3</th>\n",
       "      <th>sc_hr4</th>\n",
       "      <th>sc_extent</th>\n",
       "      <th>sc_ep_8_fmin</th>\n",
       "      <th>sc_ep_8_fmax</th>\n",
       "    </tr>\n",
       "  </thead>\n",
       "  <tbody>\n",
       "    <tr>\n",
       "      <th>158</th>\n",
       "      <td>-1.019534</td>\n",
       "      <td>1.373604</td>\n",
       "      <td>1.596765</td>\n",
       "      <td>-0.065999</td>\n",
       "      <td>-0.036157</td>\n",
       "      <td>-0.082665</td>\n",
       "      <td>-0.053337</td>\n",
       "      <td>-0.041849</td>\n",
       "      <td>-0.038598</td>\n",
       "      <td>-0.048271</td>\n",
       "      <td>-0.057616</td>\n",
       "      <td>1.029819</td>\n",
       "      <td>1.375794</td>\n",
       "      <td>1.200827</td>\n",
       "      <td>-0.277492</td>\n",
       "      <td>-0.16029</td>\n",
       "      <td>-0.044484</td>\n",
       "      <td>-0.061387</td>\n",
       "    </tr>\n",
       "    <tr>\n",
       "      <th>18062</th>\n",
       "      <td>1.387640</td>\n",
       "      <td>1.105008</td>\n",
       "      <td>1.171908</td>\n",
       "      <td>-0.066074</td>\n",
       "      <td>-0.036230</td>\n",
       "      <td>-0.083154</td>\n",
       "      <td>-0.054424</td>\n",
       "      <td>-0.043038</td>\n",
       "      <td>-0.039366</td>\n",
       "      <td>-0.049221</td>\n",
       "      <td>-0.059861</td>\n",
       "      <td>1.720004</td>\n",
       "      <td>-0.749473</td>\n",
       "      <td>-1.027565</td>\n",
       "      <td>1.907830</td>\n",
       "      <td>-0.16029</td>\n",
       "      <td>-0.045468</td>\n",
       "      <td>-0.062077</td>\n",
       "    </tr>\n",
       "    <tr>\n",
       "      <th>22612</th>\n",
       "      <td>0.063420</td>\n",
       "      <td>1.460996</td>\n",
       "      <td>-0.907133</td>\n",
       "      <td>-0.065406</td>\n",
       "      <td>-0.035150</td>\n",
       "      <td>-0.081389</td>\n",
       "      <td>-0.053597</td>\n",
       "      <td>-0.042671</td>\n",
       "      <td>-0.039369</td>\n",
       "      <td>-0.048921</td>\n",
       "      <td>-0.058772</td>\n",
       "      <td>-0.668926</td>\n",
       "      <td>0.069400</td>\n",
       "      <td>-0.106771</td>\n",
       "      <td>-0.393392</td>\n",
       "      <td>-0.16029</td>\n",
       "      <td>-0.045402</td>\n",
       "      <td>-0.061658</td>\n",
       "    </tr>\n",
       "    <tr>\n",
       "      <th>8213</th>\n",
       "      <td>-1.442109</td>\n",
       "      <td>-0.080191</td>\n",
       "      <td>1.145095</td>\n",
       "      <td>-0.066064</td>\n",
       "      <td>-0.035578</td>\n",
       "      <td>-0.082566</td>\n",
       "      <td>-0.054024</td>\n",
       "      <td>-0.042538</td>\n",
       "      <td>-0.039474</td>\n",
       "      <td>-0.049017</td>\n",
       "      <td>-0.059363</td>\n",
       "      <td>-1.665767</td>\n",
       "      <td>0.576351</td>\n",
       "      <td>0.994591</td>\n",
       "      <td>-1.393211</td>\n",
       "      <td>-0.16029</td>\n",
       "      <td>-0.045257</td>\n",
       "      <td>-0.061929</td>\n",
       "    </tr>\n",
       "    <tr>\n",
       "      <th>9242</th>\n",
       "      <td>-0.091580</td>\n",
       "      <td>-0.646497</td>\n",
       "      <td>0.775867</td>\n",
       "      <td>-0.065921</td>\n",
       "      <td>-0.035777</td>\n",
       "      <td>-0.081148</td>\n",
       "      <td>-0.053031</td>\n",
       "      <td>-0.042167</td>\n",
       "      <td>-0.038321</td>\n",
       "      <td>-0.048005</td>\n",
       "      <td>-0.058151</td>\n",
       "      <td>0.372143</td>\n",
       "      <td>0.458863</td>\n",
       "      <td>0.469108</td>\n",
       "      <td>0.138613</td>\n",
       "      <td>-0.16029</td>\n",
       "      <td>-0.044209</td>\n",
       "      <td>-0.061195</td>\n",
       "    </tr>\n",
       "    <tr>\n",
       "      <th>...</th>\n",
       "      <td>...</td>\n",
       "      <td>...</td>\n",
       "      <td>...</td>\n",
       "      <td>...</td>\n",
       "      <td>...</td>\n",
       "      <td>...</td>\n",
       "      <td>...</td>\n",
       "      <td>...</td>\n",
       "      <td>...</td>\n",
       "      <td>...</td>\n",
       "      <td>...</td>\n",
       "      <td>...</td>\n",
       "      <td>...</td>\n",
       "      <td>...</td>\n",
       "      <td>...</td>\n",
       "      <td>...</td>\n",
       "      <td>...</td>\n",
       "      <td>...</td>\n",
       "    </tr>\n",
       "    <tr>\n",
       "      <th>11416</th>\n",
       "      <td>0.951042</td>\n",
       "      <td>1.455895</td>\n",
       "      <td>-0.718493</td>\n",
       "      <td>-0.065844</td>\n",
       "      <td>-0.034542</td>\n",
       "      <td>-0.078445</td>\n",
       "      <td>-0.053685</td>\n",
       "      <td>-0.042996</td>\n",
       "      <td>-0.039472</td>\n",
       "      <td>-0.048831</td>\n",
       "      <td>-0.058489</td>\n",
       "      <td>0.021876</td>\n",
       "      <td>-1.275144</td>\n",
       "      <td>-1.146826</td>\n",
       "      <td>0.027586</td>\n",
       "      <td>-0.16029</td>\n",
       "      <td>-0.045097</td>\n",
       "      <td>-0.061097</td>\n",
       "    </tr>\n",
       "    <tr>\n",
       "      <th>3648</th>\n",
       "      <td>0.403027</td>\n",
       "      <td>1.731996</td>\n",
       "      <td>-0.622952</td>\n",
       "      <td>-0.065780</td>\n",
       "      <td>-0.033690</td>\n",
       "      <td>-0.079721</td>\n",
       "      <td>-0.052895</td>\n",
       "      <td>-0.042214</td>\n",
       "      <td>-0.039154</td>\n",
       "      <td>-0.048367</td>\n",
       "      <td>-0.058489</td>\n",
       "      <td>-1.088990</td>\n",
       "      <td>-0.131954</td>\n",
       "      <td>0.412811</td>\n",
       "      <td>-0.706264</td>\n",
       "      <td>-0.16029</td>\n",
       "      <td>-0.044583</td>\n",
       "      <td>-0.061457</td>\n",
       "    </tr>\n",
       "    <tr>\n",
       "      <th>22596</th>\n",
       "      <td>-0.800645</td>\n",
       "      <td>-1.970776</td>\n",
       "      <td>-0.601943</td>\n",
       "      <td>-0.065478</td>\n",
       "      <td>-0.035863</td>\n",
       "      <td>-0.081047</td>\n",
       "      <td>-0.050758</td>\n",
       "      <td>-0.039614</td>\n",
       "      <td>-0.034951</td>\n",
       "      <td>-0.044877</td>\n",
       "      <td>-0.056408</td>\n",
       "      <td>0.534579</td>\n",
       "      <td>1.336401</td>\n",
       "      <td>0.948686</td>\n",
       "      <td>0.231485</td>\n",
       "      <td>-0.16029</td>\n",
       "      <td>-0.042826</td>\n",
       "      <td>-0.056911</td>\n",
       "    </tr>\n",
       "    <tr>\n",
       "      <th>21761</th>\n",
       "      <td>-0.963468</td>\n",
       "      <td>-1.576799</td>\n",
       "      <td>0.119119</td>\n",
       "      <td>-0.066039</td>\n",
       "      <td>-0.036105</td>\n",
       "      <td>-0.082584</td>\n",
       "      <td>-0.053882</td>\n",
       "      <td>-0.042964</td>\n",
       "      <td>-0.039462</td>\n",
       "      <td>-0.049161</td>\n",
       "      <td>-0.057920</td>\n",
       "      <td>0.712313</td>\n",
       "      <td>0.588627</td>\n",
       "      <td>-0.945360</td>\n",
       "      <td>-0.825888</td>\n",
       "      <td>-0.16029</td>\n",
       "      <td>-0.045405</td>\n",
       "      <td>-0.062034</td>\n",
       "    </tr>\n",
       "    <tr>\n",
       "      <th>15000</th>\n",
       "      <td>-0.766560</td>\n",
       "      <td>-0.211591</td>\n",
       "      <td>-0.542693</td>\n",
       "      <td>-0.065845</td>\n",
       "      <td>-0.033160</td>\n",
       "      <td>-0.068122</td>\n",
       "      <td>-0.049170</td>\n",
       "      <td>-0.041812</td>\n",
       "      <td>-0.039230</td>\n",
       "      <td>-0.047173</td>\n",
       "      <td>-0.054043</td>\n",
       "      <td>0.829646</td>\n",
       "      <td>-0.029295</td>\n",
       "      <td>-0.470103</td>\n",
       "      <td>-0.989760</td>\n",
       "      <td>-0.16029</td>\n",
       "      <td>-0.043347</td>\n",
       "      <td>-0.060590</td>\n",
       "    </tr>\n",
       "  </tbody>\n",
       "</table>\n",
       "<p>18172 rows × 18 columns</p>\n",
       "</div>"
      ],
      "text/plain": [
       "          sc_ra    sc_dec  sc_poserr  sc_det_ml  sc_ep_1_flux  sc_ep_2_flux  \\\n",
       "158   -1.019534  1.373604   1.596765  -0.065999     -0.036157     -0.082665   \n",
       "18062  1.387640  1.105008   1.171908  -0.066074     -0.036230     -0.083154   \n",
       "22612  0.063420  1.460996  -0.907133  -0.065406     -0.035150     -0.081389   \n",
       "8213  -1.442109 -0.080191   1.145095  -0.066064     -0.035578     -0.082566   \n",
       "9242  -0.091580 -0.646497   0.775867  -0.065921     -0.035777     -0.081148   \n",
       "...         ...       ...        ...        ...           ...           ...   \n",
       "11416  0.951042  1.455895  -0.718493  -0.065844     -0.034542     -0.078445   \n",
       "3648   0.403027  1.731996  -0.622952  -0.065780     -0.033690     -0.079721   \n",
       "22596 -0.800645 -1.970776  -0.601943  -0.065478     -0.035863     -0.081047   \n",
       "21761 -0.963468 -1.576799   0.119119  -0.066039     -0.036105     -0.082584   \n",
       "15000 -0.766560 -0.211591  -0.542693  -0.065845     -0.033160     -0.068122   \n",
       "\n",
       "       sc_ep_3_flux  sc_ep_4_flux  sc_ep_5_flux  sc_ep_8_flux  sc_ep_9_flux  \\\n",
       "158       -0.053337     -0.041849     -0.038598     -0.048271     -0.057616   \n",
       "18062     -0.054424     -0.043038     -0.039366     -0.049221     -0.059861   \n",
       "22612     -0.053597     -0.042671     -0.039369     -0.048921     -0.058772   \n",
       "8213      -0.054024     -0.042538     -0.039474     -0.049017     -0.059363   \n",
       "9242      -0.053031     -0.042167     -0.038321     -0.048005     -0.058151   \n",
       "...             ...           ...           ...           ...           ...   \n",
       "11416     -0.053685     -0.042996     -0.039472     -0.048831     -0.058489   \n",
       "3648      -0.052895     -0.042214     -0.039154     -0.048367     -0.058489   \n",
       "22596     -0.050758     -0.039614     -0.034951     -0.044877     -0.056408   \n",
       "21761     -0.053882     -0.042964     -0.039462     -0.049161     -0.057920   \n",
       "15000     -0.049170     -0.041812     -0.039230     -0.047173     -0.054043   \n",
       "\n",
       "         sc_hr1    sc_hr2    sc_hr3    sc_hr4  sc_extent  sc_ep_8_fmin  \\\n",
       "158    1.029819  1.375794  1.200827 -0.277492   -0.16029     -0.044484   \n",
       "18062  1.720004 -0.749473 -1.027565  1.907830   -0.16029     -0.045468   \n",
       "22612 -0.668926  0.069400 -0.106771 -0.393392   -0.16029     -0.045402   \n",
       "8213  -1.665767  0.576351  0.994591 -1.393211   -0.16029     -0.045257   \n",
       "9242   0.372143  0.458863  0.469108  0.138613   -0.16029     -0.044209   \n",
       "...         ...       ...       ...       ...        ...           ...   \n",
       "11416  0.021876 -1.275144 -1.146826  0.027586   -0.16029     -0.045097   \n",
       "3648  -1.088990 -0.131954  0.412811 -0.706264   -0.16029     -0.044583   \n",
       "22596  0.534579  1.336401  0.948686  0.231485   -0.16029     -0.042826   \n",
       "21761  0.712313  0.588627 -0.945360 -0.825888   -0.16029     -0.045405   \n",
       "15000  0.829646 -0.029295 -0.470103 -0.989760   -0.16029     -0.043347   \n",
       "\n",
       "       sc_ep_8_fmax  \n",
       "158       -0.061387  \n",
       "18062     -0.062077  \n",
       "22612     -0.061658  \n",
       "8213      -0.061929  \n",
       "9242      -0.061195  \n",
       "...             ...  \n",
       "11416     -0.061097  \n",
       "3648      -0.061457  \n",
       "22596     -0.056911  \n",
       "21761     -0.062034  \n",
       "15000     -0.060590  \n",
       "\n",
       "[18172 rows x 18 columns]"
      ]
     },
     "execution_count": 39,
     "metadata": {},
     "output_type": "execute_result"
    }
   ],
   "source": [
    "X_train"
   ]
  },
  {
   "cell_type": "code",
   "execution_count": 11,
   "metadata": {},
   "outputs": [],
   "source": [
    "# For the data to be consumed by the Bayesian NN, we first need to convert into np arrays\n",
    "\n",
    "train_data=np.array(X_train)\n",
    "train_labels=np.array(Y_train)\n",
    "test_data=np.array(X_test)\n",
    "test_labels=np.array(Y_test)"
   ]
  },
  {
   "cell_type": "code",
   "execution_count": 13,
   "metadata": {},
   "outputs": [
    {
     "data": {
      "text/plain": [
       "(torch.Size([18172, 18]), torch.Size([18172]))"
      ]
     },
     "execution_count": 13,
     "metadata": {},
     "output_type": "execute_result"
    }
   ],
   "source": [
    "# Here we use the torch.from_numpy function to convert the np arrays into tensors\n",
    "\n",
    "x_train, y_train = torch.from_numpy(train_data).float(), torch.from_numpy(train_labels).long()\n",
    "x_test, y_test = torch.from_numpy(test_data).float(), torch.from_numpy(test_labels).long()\n",
    "x_train.shape, y_train.shape"
   ]
  },
  {
   "cell_type": "code",
   "execution_count": 31,
   "metadata": {},
   "outputs": [
    {
     "name": "stdout",
     "output_type": "stream",
     "text": [
      "Sequential(\n",
      "  (0): BayesLinear(prior_mu=0, prior_sigma=0.1, in_features=18, out_features=100, bias=True)\n",
      "  (1): ReLU()\n",
      "  (2): BayesLinear(prior_mu=0, prior_sigma=0.1, in_features=100, out_features=200, bias=True)\n",
      "  (3): ReLU()\n",
      "  (4): BayesLinear(prior_mu=0, prior_sigma=0.1, in_features=200, out_features=100, bias=True)\n",
      "  (5): ReLU()\n",
      "  (6): BayesLinear(prior_mu=0, prior_sigma=0.1, in_features=100, out_features=7, bias=True)\n",
      ")\n"
     ]
    }
   ],
   "source": [
    "# The structure of the Bayesian NN along with Crossentropy loss and KL Divergence Loss for Bayesian Neural Networks\n",
    "\n",
    "model = nn.Sequential(\n",
    "    bnn.BayesLinear(prior_mu=0, prior_sigma=0.1, in_features=18, out_features=100),\n",
    "    nn.ReLU(),\n",
    "    bnn.BayesLinear(prior_mu=0, prior_sigma=0.1, in_features=100, out_features=200),\n",
    "    nn.ReLU(),\n",
    "    bnn.BayesLinear(prior_mu=0, prior_sigma=0.1, in_features=200, out_features=100),\n",
    "    nn.ReLU(),\n",
    "    bnn.BayesLinear(prior_mu=0, prior_sigma=0.1, in_features=100, out_features=7),\n",
    ")\n",
    "ce_loss = nn.CrossEntropyLoss()\n",
    "kl_loss = bnn.BKLLoss(reduction='mean', last_layer_only=False)\n",
    "kl_weight = 0.01\n",
    "\n",
    "optimizer = optim.Adam(model.parameters(), lr=0.01)\n",
    "kl_weight = 0.1\n",
    "\n",
    "print(model)"
   ]
  },
  {
   "cell_type": "code",
   "execution_count": 34,
   "metadata": {},
   "outputs": [
    {
     "name": "stderr",
     "output_type": "stream",
     "text": [
      "100%|████████████████████████████████████████████████████████████████████████| 2000/2000 [00:00<00:00, 11881881.02it/s]"
     ]
    },
    {
     "name": "stdout",
     "output_type": "stream",
     "text": [
      "- Accuracy: 76.365430 %\n",
      "- CE : 0.50, KL : 0.53\n"
     ]
    },
    {
     "name": "stderr",
     "output_type": "stream",
     "text": [
      "\n"
     ]
    }
   ],
   "source": [
    "# Training the Bayesian NN for 2000 iterations\n",
    "\n",
    "from tqdm import tqdm\n",
    "for step in tqdm(range(2000)):\n",
    "    \n",
    "    pre = model(x_train)\n",
    "    ce = ce_loss(pre, y_train)\n",
    "    kl = kl_loss(model)\n",
    "    cost = ce + kl_weight*kl\n",
    "    \n",
    "    optimizer.zero_grad()\n",
    "    cost.backward()\n",
    "    optimizer.step()\n",
    "\n",
    "pre = model(x_test)\n",
    "_, predicted = torch.max(pre.data, 1)\n",
    "\n",
    "total = y_test.size(0)\n",
    "correct = (predicted == y_test).sum()\n",
    "\n",
    "print('- Accuracy: %f %%' % (100 * float(correct) / total))\n",
    "Accuracy1 = 100 * float(correct) / total\n",
    "print('- CE : %2.2f, KL : %2.2f' % (ce.item(), kl.item()))"
   ]
  },
  {
   "cell_type": "code",
   "execution_count": 18,
   "metadata": {},
   "outputs": [
    {
     "data": {
      "image/png": "[encoded data removed]",
      "text/plain": [
       "<Figure size 432x288 with 1 Axes>"
      ]
     },
     "metadata": {
      "needs_background": "light"
     },
     "output_type": "display_data"
    }
   ],
   "source": [
    "# Inspecting Class imbalance, here class 2 has the largest number of instances\n",
    "\n",
    "labels_df=pd.DataFrame(labels)\n",
    "labels_df.groupby('Class').size()\n",
    "plt.bar(labels_df.groupby('Class').size().index,labels_df.groupby('Class').size())\n",
    "plt.show()"
   ]
  },
  {
   "cell_type": "code",
   "execution_count": null,
   "metadata": {},
   "outputs": [],
   "source": [
    "# Defining the SMOTE and SMOTEENN variables for oversampling of the data.\n",
    "\n",
    "smt=SMOTE(sampling_strategy={0:2000, 1:2000, 3:2000, 6:2000})\n",
    "smteen=SMOTEENN(sampling_strategy={0:2000, 1:2000, 3:2000, 6:2000})"
   ]
  },
  {
   "cell_type": "markdown",
   "metadata": {},
   "source": [
    "# Oversampling the Data using SMOTE"
   ]
  },
  {
   "cell_type": "code",
   "execution_count": 19,
   "metadata": {},
   "outputs": [
    {
     "data": {
      "image/png": "[encoded data removed]",
      "text/plain": [
       "<Figure size 432x288 with 1 Axes>"
      ]
     },
     "metadata": {
      "needs_background": "light"
     },
     "output_type": "display_data"
    }
   ],
   "source": [
    "# Visualizing the data after transformation takes place. We see that the deficient classes 0, 1, 3, 6 have increased in number.\n",
    "\n",
    "X,Y=smt.fit_resample(X_train,Y_train)\n",
    "\n",
    "labels_df=pd.DataFrame(Y)\n",
    "labels_df.groupby('Class').size()\n",
    "plt.bar(labels_df.groupby('Class').size().index,labels_df.groupby('Class').size())\n",
    "plt.show()"
   ]
  },
  {
   "cell_type": "code",
   "execution_count": 20,
   "metadata": {},
   "outputs": [],
   "source": [
    "# Same as above\n",
    "\n",
    "train_data=np.array(X)\n",
    "train_labels=np.array(Y)\n",
    "test_data=np.array(X_test)\n",
    "test_labels=np.array(Y_test)"
   ]
  },
  {
   "cell_type": "code",
   "execution_count": 21,
   "metadata": {},
   "outputs": [
    {
     "data": {
      "text/plain": [
       "(torch.Size([25756, 18]), torch.Size([25756]))"
      ]
     },
     "execution_count": 21,
     "metadata": {},
     "output_type": "execute_result"
    }
   ],
   "source": [
    "x_train, y_train = torch.from_numpy(train_data).float(), torch.from_numpy(train_labels).long()\n",
    "x_test, y_test = torch.from_numpy(test_data).float(), torch.from_numpy(test_labels).long()\n",
    "x_train.shape, y_train.shape"
   ]
  },
  {
   "cell_type": "code",
   "execution_count": 30,
   "metadata": {},
   "outputs": [
    {
     "name": "stdout",
     "output_type": "stream",
     "text": [
      "Sequential(\n",
      "  (0): BayesLinear(prior_mu=0, prior_sigma=0.1, in_features=18, out_features=100, bias=True)\n",
      "  (1): ReLU()\n",
      "  (2): BayesLinear(prior_mu=0, prior_sigma=0.1, in_features=100, out_features=200, bias=True)\n",
      "  (3): ReLU()\n",
      "  (4): BayesLinear(prior_mu=0, prior_sigma=0.1, in_features=200, out_features=100, bias=True)\n",
      "  (5): ReLU()\n",
      "  (6): BayesLinear(prior_mu=0, prior_sigma=0.1, in_features=100, out_features=7, bias=True)\n",
      ")\n"
     ]
    }
   ],
   "source": [
    "# defining a new Bayesian NN with similar architecture\n",
    "\n",
    "model = nn.Sequential(\n",
    "    bnn.BayesLinear(prior_mu=0, prior_sigma=0.1, in_features=18, out_features=100),\n",
    "    nn.ReLU(),\n",
    "    bnn.BayesLinear(prior_mu=0, prior_sigma=0.1, in_features=100, out_features=200),\n",
    "    nn.ReLU(),\n",
    "    bnn.BayesLinear(prior_mu=0, prior_sigma=0.1, in_features=200, out_features=100),\n",
    "    nn.ReLU(),\n",
    "    bnn.BayesLinear(prior_mu=0, prior_sigma=0.1, in_features=100, out_features=7),\n",
    ")\n",
    "ce_loss = nn.CrossEntropyLoss()\n",
    "kl_loss = bnn.BKLLoss(reduction='mean', last_layer_only=False)\n",
    "kl_weight = 0.01\n",
    "\n",
    "optimizer = optim.Adam(model.parameters(), lr=0.01)\n",
    "kl_weight = 0.1\n",
    "\n",
    "print(model)"
   ]
  },
  {
   "cell_type": "code",
   "execution_count": 37,
   "metadata": {},
   "outputs": [
    {
     "name": "stderr",
     "output_type": "stream",
     "text": [
      "100%|████████████████████████████████████████████████████████████████████████| 2000/2000 [00:00<00:00, 12104773.45it/s]"
     ]
    },
    {
     "name": "stdout",
     "output_type": "stream",
     "text": [
      "- Accuracy: 78.673780 %\n",
      "- CE : 0.43, KL : 0.65\n"
     ]
    },
    {
     "name": "stderr",
     "output_type": "stream",
     "text": [
      "\n"
     ]
    }
   ],
   "source": [
    "# Training the NN in a similar fashion\n",
    "\n",
    "for step in tqdm(range(2000)):\n",
    "    \n",
    "    pre = model(x_train)\n",
    "    ce = ce_loss(pre, y_train)\n",
    "    kl = kl_loss(model)\n",
    "    cost = ce + kl_weight*kl\n",
    "    \n",
    "    optimizer.zero_grad()\n",
    "    cost.backward()\n",
    "    optimizer.step()\n",
    "\n",
    "pre = model(x_test)\n",
    "_, predicted = torch.max(pre.data, 1)\n",
    "\n",
    "total = y_test.size(0)\n",
    "correct = (predicted == y_test).sum()\n",
    "\n",
    "print('- Accuracy: %f %%' % (100 * float(correct) / total))\n",
    "Accuracy2 = 100 * float(correct) / total\n",
    "print('- CE : %2.2f, KL : %2.2f' % (ce.item(), kl.item()))\n"
   ]
  },
  {
   "cell_type": "markdown",
   "metadata": {},
   "source": [
    "# Oversampling the Data using SMOTEENN"
   ]
  },
  {
   "cell_type": "code",
   "execution_count": 24,
   "metadata": {},
   "outputs": [
    {
     "data": {
      "image/png": "[encoded data removed]",
      "text/plain": [
       "<Figure size 432x288 with 1 Axes>"
      ]
     },
     "metadata": {
      "needs_background": "light"
     },
     "output_type": "display_data"
    }
   ],
   "source": [
    "# Oversampling the data using SMOTEENN and then visualizing\n",
    "\n",
    "X,Y=smteen.fit_resample(X_train,Y_train)\n",
    "\n",
    "labels_df=pd.DataFrame(Y)\n",
    "labels_df.groupby('Class').size()\n",
    "plt.bar(labels_df.groupby('Class').size().index,labels_df.groupby('Class').size())\n",
    "plt.show()"
   ]
  },
  {
   "cell_type": "code",
   "execution_count": 25,
   "metadata": {},
   "outputs": [],
   "source": [
    "train_data=np.array(X)\n",
    "train_labels=np.array(Y)\n",
    "test_data=np.array(X_test)\n",
    "test_labels=np.array(Y_test)"
   ]
  },
  {
   "cell_type": "code",
   "execution_count": 26,
   "metadata": {},
   "outputs": [
    {
     "data": {
      "text/plain": [
       "(torch.Size([15377, 18]), torch.Size([15377]))"
      ]
     },
     "execution_count": 26,
     "metadata": {},
     "output_type": "execute_result"
    }
   ],
   "source": [
    "x_train, y_train = torch.from_numpy(train_data).float(), torch.from_numpy(train_labels).long()\n",
    "x_test, y_test = torch.from_numpy(test_data).float(), torch.from_numpy(test_labels).long()\n",
    "x_train.shape, y_train.shape"
   ]
  },
  {
   "cell_type": "code",
   "execution_count": 29,
   "metadata": {},
   "outputs": [
    {
     "name": "stdout",
     "output_type": "stream",
     "text": [
      "Sequential(\n",
      "  (0): BayesLinear(prior_mu=0, prior_sigma=0.1, in_features=18, out_features=100, bias=True)\n",
      "  (1): ReLU()\n",
      "  (2): BayesLinear(prior_mu=0, prior_sigma=0.1, in_features=100, out_features=200, bias=True)\n",
      "  (3): ReLU()\n",
      "  (4): BayesLinear(prior_mu=0, prior_sigma=0.1, in_features=200, out_features=100, bias=True)\n",
      "  (5): ReLU()\n",
      "  (6): BayesLinear(prior_mu=0, prior_sigma=0.1, in_features=100, out_features=7, bias=True)\n",
      ")\n"
     ]
    }
   ],
   "source": [
    "# Defining a new Bayesian NN for this task\n",
    "\n",
    "model = nn.Sequential(\n",
    "    bnn.BayesLinear(prior_mu=0, prior_sigma=0.1, in_features=18, out_features=100),\n",
    "    nn.ReLU(),\n",
    "    bnn.BayesLinear(prior_mu=0, prior_sigma=0.1, in_features=100, out_features=200),\n",
    "    nn.ReLU(),\n",
    "    bnn.BayesLinear(prior_mu=0, prior_sigma=0.1, in_features=200, out_features=100),\n",
    "    nn.ReLU(),\n",
    "    bnn.BayesLinear(prior_mu=0, prior_sigma=0.1, in_features=100, out_features=7),\n",
    ")\n",
    "ce_loss = nn.CrossEntropyLoss()\n",
    "kl_loss = bnn.BKLLoss(reduction='mean', last_layer_only=False)\n",
    "kl_weight = 0.01\n",
    "\n",
    "optimizer = optim.Adam(model.parameters(), lr=0.01)\n",
    "kl_weight = 0.1\n",
    "\n",
    "print(model)"
   ]
  },
  {
   "cell_type": "code",
   "execution_count": 38,
   "metadata": {},
   "outputs": [
    {
     "name": "stderr",
     "output_type": "stream",
     "text": [
      "100%|██████████████████████████████████████████████████████████████████████████████████████| 2000/2000 [00:00<?, ?it/s]"
     ]
    },
    {
     "name": "stdout",
     "output_type": "stream",
     "text": [
      "- Accuracy: 72.674894 %\n",
      "- CE : 0.05, KL : 1.29\n"
     ]
    },
    {
     "name": "stderr",
     "output_type": "stream",
     "text": [
      "\n"
     ]
    }
   ],
   "source": [
    "# training on SMOTEENN data\n",
    "\n",
    "for step in tqdm(range(2000)):\n",
    "    \n",
    "    pre = model(x_train)\n",
    "    ce = ce_loss(pre, y_train)\n",
    "    kl = kl_loss(model)\n",
    "    cost = ce + kl_weight*kl\n",
    "    \n",
    "    optimizer.zero_grad()\n",
    "    cost.backward()\n",
    "    optimizer.step()\n",
    "\n",
    "pre = model(x_test)\n",
    "_, predicted = torch.max(pre.data, 1)\n",
    "\n",
    "total = y_test.size(0)\n",
    "correct = (predicted == y_test).sum()\n",
    "\n",
    "print('- Accuracy: %f %%' % (100 * float(correct) / total))\n",
    "Accuracy3 = 100 * float(correct) / total\n",
    "print('- CE : %2.2f, KL : %2.2f' % (ce.item(), kl.item()))\n"
   ]
  },
  {
   "cell_type": "code",
   "execution_count": 44,
   "metadata": {},
   "outputs": [
    {
     "data": {
      "image/png": "[encoded data removed]",
      "text/plain": [
       "<Figure size 432x288 with 1 Axes>"
      ]
     },
     "metadata": {
      "needs_background": "light"
     },
     "output_type": "display_data"
    }
   ],
   "source": [
    "# A final comparison of various techniques, the first one involves no oversampling, while the others do.\n",
    "# It seems that SMOTEENN results in a reduced accuracy, perhaps because some important samples are undersampled and eliminated.\n",
    "\n",
    "plt.bar(['Baseline','SMOTE','SMOTEENN'],[Accuracy1, Accuracy2, Accuracy3])\n",
    "plt.ylabel('Accuracy')\n",
    "plt.xlabel('Method')\n",
    "plt.title('Bayesian_NN using various oversampling techniques')\n",
    "plt.show()"
   ]
  },
  {
   "cell_type": "code",
   "execution_count": 46,
   "metadata": {},
   "outputs": [
    {
     "name": "stdout",
     "output_type": "stream",
     "text": [
      "ACCURACY OF THE Random_Forest_Classifier:  74.937282892\n"
     ]
    }
   ],
   "source": [
    "# For the final experiment, we take a normal RF_classifier and train the maodel using normal data (no oversampling).\n",
    "# creating a RF classifier\n",
    "clf = RandomForestClassifier(n_estimators = 100) \n",
    "\n",
    "# Training the model on the training dataset\n",
    "# fit function is used to train the model using the training sets as parameters\n",
    "clf.fit(X_train, Y_train)\n",
    "\n",
    "# performing predictions on the test dataset\n",
    "y_pred_rf1 = clf.predict(X_test)\n",
    "\n",
    "# using metrics module for accuracy calculation\n",
    "print(\"ACCURACY OF THE Random_Forest_Classifier: \", metrics.accuracy_score(Y_test, y_pred_rf1))"
   ]
  },
  {
   "cell_type": "code",
   "execution_count": 52,
   "metadata": {},
   "outputs": [
    {
     "data": {
      "image/png": "[encoded data removed]",
      "text/plain": [
       "<Figure size 576x432 with 1 Axes>"
      ]
     },
     "metadata": {
      "needs_background": "light"
     },
     "output_type": "display_data"
    }
   ],
   "source": [
    "# Surprisingly a Bayesian NN perfroms better than a Random Forest Classifier on the imbalanced data.\n",
    "\n",
    "f = plt.figure()\n",
    "f.set_figwidth(8)\n",
    "f.set_figheight(6)\n",
    "\n",
    "plt.bar(['RandomForest_Classifier','Bayesian_NN'],[metrics.accuracy_score(Y_test, y_pred_rf1), Accuracy1])\n",
    "plt.ylabel('Accuracy')\n",
    "plt.xlabel('Method')\n",
    "plt.title('Bayesian_NN vs RandomForest_Classifier')\n",
    "plt.show()"
   ]
  },
  {
   "cell_type": "code",
   "execution_count": null,
   "metadata": {},
   "outputs": [],
   "source": []
  }
 ],
 "metadata": {
  "kernelspec": {
   "display_name": "Python 3",
   "language": "python",
   "name": "python3"
  },
  "language_info": {
   "codemirror_mode": {
    "name": "ipython",
    "version": 3
   },
   "file_extension": ".py",
   "mimetype": "text/x-python",
   "name": "python",
   "nbconvert_exporter": "python",
   "pygments_lexer": "ipython3",
   "version": "3.7.6"
  }
 },
 "nbformat": 4,
 "nbformat_minor": 4
}
