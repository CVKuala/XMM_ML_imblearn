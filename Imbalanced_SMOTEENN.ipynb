{
 "cells": [
  {
   "cell_type": "code",
   "execution_count": 2,
   "metadata": {},
   "outputs": [],
   "source": [
    "# Importing all the necessary packages\n",
    "\n",
    "import random\n",
    "import pandas as pd\n",
    "import seaborn as sns\n",
    "import numpy as np\n",
    "from sklearn.decomposition import PCA\n",
    "from sklearn import metrics\n",
    "from sklearn import preprocessing\n",
    "import xgboost as xgb\n",
    "from sklearn.ensemble import RandomForestClassifier\n",
    "from sklearn.model_selection import train_test_split\n",
    "from sklearn.metrics import classification_report\n",
    "from sklearn.metrics import confusion_matrix\n",
    "from imblearn.over_sampling import SMOTE\n",
    "from imblearn.over_sampling import ADASYN\n",
    "from imblearn.combine import SMOTEENN\n",
    "import matplotlib.pyplot as plt"
   ]
  },
  {
   "cell_type": "code",
   "execution_count": 3,
   "metadata": {},
   "outputs": [
    {
     "data": {
      "text/html": [
       "<div>\n",
       "<style scoped>\n",
       "    .dataframe tbody tr th:only-of-type {\n",
       "        vertical-align: middle;\n",
       "    }\n",
       "\n",
       "    .dataframe tbody tr th {\n",
       "        vertical-align: top;\n",
       "    }\n",
       "\n",
       "    .dataframe thead th {\n",
       "        text-align: right;\n",
       "    }\n",
       "</style>\n",
       "<table border=\"1\" class=\"dataframe\">\n",
       "  <thead>\n",
       "    <tr style=\"text-align: right;\">\n",
       "      <th></th>\n",
       "      <th>sc_ra</th>\n",
       "      <th>sc_dec</th>\n",
       "      <th>sc_poserr</th>\n",
       "      <th>sc_det_ml</th>\n",
       "      <th>sc_ep_1_flux</th>\n",
       "      <th>sc_ep_2_flux</th>\n",
       "      <th>sc_ep_3_flux</th>\n",
       "      <th>sc_ep_4_flux</th>\n",
       "      <th>sc_ep_5_flux</th>\n",
       "      <th>sc_ep_8_flux</th>\n",
       "      <th>sc_ep_9_flux</th>\n",
       "      <th>sc_hr1</th>\n",
       "      <th>sc_hr2</th>\n",
       "      <th>sc_hr3</th>\n",
       "      <th>sc_hr4</th>\n",
       "      <th>sc_extent</th>\n",
       "      <th>sc_ep_8_fmin</th>\n",
       "      <th>sc_ep_8_fmax</th>\n",
       "      <th>Class</th>\n",
       "    </tr>\n",
       "  </thead>\n",
       "  <tbody>\n",
       "    <tr>\n",
       "      <th>0</th>\n",
       "      <td>1.836559</td>\n",
       "      <td>20.122780</td>\n",
       "      <td>0.508007</td>\n",
       "      <td>408.3659</td>\n",
       "      <td>2.380000e-15</td>\n",
       "      <td>7.000000e-15</td>\n",
       "      <td>9.370000e-15</td>\n",
       "      <td>1.060000e-14</td>\n",
       "      <td>1.970000e-14</td>\n",
       "      <td>4.850000e-14</td>\n",
       "      <td>3.080000e-14</td>\n",
       "      <td>0.389105</td>\n",
       "      <td>-0.002790</td>\n",
       "      <td>-0.401496</td>\n",
       "      <td>-0.120218</td>\n",
       "      <td>0.0</td>\n",
       "      <td>2.650000e-14</td>\n",
       "      <td>9.910000e-14</td>\n",
       "      <td>0</td>\n",
       "    </tr>\n",
       "    <tr>\n",
       "      <th>1</th>\n",
       "      <td>87.383962</td>\n",
       "      <td>-21.924875</td>\n",
       "      <td>0.336117</td>\n",
       "      <td>2672.8470</td>\n",
       "      <td>7.140000e-15</td>\n",
       "      <td>1.990000e-14</td>\n",
       "      <td>2.800000e-14</td>\n",
       "      <td>3.040000e-14</td>\n",
       "      <td>5.990000e-14</td>\n",
       "      <td>1.460000e-13</td>\n",
       "      <td>8.370000e-14</td>\n",
       "      <td>0.444257</td>\n",
       "      <td>0.119971</td>\n",
       "      <td>-0.443130</td>\n",
       "      <td>-0.331475</td>\n",
       "      <td>0.0</td>\n",
       "      <td>1.430000e-13</td>\n",
       "      <td>1.490000e-13</td>\n",
       "      <td>0</td>\n",
       "    </tr>\n",
       "    <tr>\n",
       "      <th>2</th>\n",
       "      <td>159.945875</td>\n",
       "      <td>-5.116026</td>\n",
       "      <td>0.521204</td>\n",
       "      <td>583.1679</td>\n",
       "      <td>2.380000e-15</td>\n",
       "      <td>7.920000e-15</td>\n",
       "      <td>8.050000e-15</td>\n",
       "      <td>9.410000e-15</td>\n",
       "      <td>4.540000e-15</td>\n",
       "      <td>3.030000e-14</td>\n",
       "      <td>2.890000e-14</td>\n",
       "      <td>0.515240</td>\n",
       "      <td>0.000777</td>\n",
       "      <td>-0.370514</td>\n",
       "      <td>-0.495102</td>\n",
       "      <td>0.0</td>\n",
       "      <td>2.010000e-14</td>\n",
       "      <td>6.730000e-14</td>\n",
       "      <td>0</td>\n",
       "    </tr>\n",
       "    <tr>\n",
       "      <th>3</th>\n",
       "      <td>38.766442</td>\n",
       "      <td>32.677084</td>\n",
       "      <td>0.689360</td>\n",
       "      <td>292.4774</td>\n",
       "      <td>7.120000e-16</td>\n",
       "      <td>6.610000e-15</td>\n",
       "      <td>2.400000e-14</td>\n",
       "      <td>6.570000e-14</td>\n",
       "      <td>8.240000e-14</td>\n",
       "      <td>1.860000e-13</td>\n",
       "      <td>7.540000e-14</td>\n",
       "      <td>0.849070</td>\n",
       "      <td>0.559812</td>\n",
       "      <td>-0.026348</td>\n",
       "      <td>-0.400924</td>\n",
       "      <td>0.0</td>\n",
       "      <td>1.580000e-13</td>\n",
       "      <td>2.640000e-13</td>\n",
       "      <td>0</td>\n",
       "    </tr>\n",
       "    <tr>\n",
       "      <th>4</th>\n",
       "      <td>141.661199</td>\n",
       "      <td>36.400714</td>\n",
       "      <td>0.309602</td>\n",
       "      <td>2871.4660</td>\n",
       "      <td>2.670000e-15</td>\n",
       "      <td>9.070000e-15</td>\n",
       "      <td>1.980000e-14</td>\n",
       "      <td>4.530000e-14</td>\n",
       "      <td>5.810000e-14</td>\n",
       "      <td>1.360000e-13</td>\n",
       "      <td>6.460000e-14</td>\n",
       "      <td>0.497494</td>\n",
       "      <td>0.319506</td>\n",
       "      <td>-0.113438</td>\n",
       "      <td>-0.504149</td>\n",
       "      <td>0.0</td>\n",
       "      <td>1.360000e-13</td>\n",
       "      <td>1.360000e-13</td>\n",
       "      <td>0</td>\n",
       "    </tr>\n",
       "  </tbody>\n",
       "</table>\n",
       "</div>"
      ],
      "text/plain": [
       "        sc_ra     sc_dec  sc_poserr  sc_det_ml  sc_ep_1_flux  sc_ep_2_flux  \\\n",
       "0    1.836559  20.122780   0.508007   408.3659  2.380000e-15  7.000000e-15   \n",
       "1   87.383962 -21.924875   0.336117  2672.8470  7.140000e-15  1.990000e-14   \n",
       "2  159.945875  -5.116026   0.521204   583.1679  2.380000e-15  7.920000e-15   \n",
       "3   38.766442  32.677084   0.689360   292.4774  7.120000e-16  6.610000e-15   \n",
       "4  141.661199  36.400714   0.309602  2871.4660  2.670000e-15  9.070000e-15   \n",
       "\n",
       "   sc_ep_3_flux  sc_ep_4_flux  sc_ep_5_flux  sc_ep_8_flux  sc_ep_9_flux  \\\n",
       "0  9.370000e-15  1.060000e-14  1.970000e-14  4.850000e-14  3.080000e-14   \n",
       "1  2.800000e-14  3.040000e-14  5.990000e-14  1.460000e-13  8.370000e-14   \n",
       "2  8.050000e-15  9.410000e-15  4.540000e-15  3.030000e-14  2.890000e-14   \n",
       "3  2.400000e-14  6.570000e-14  8.240000e-14  1.860000e-13  7.540000e-14   \n",
       "4  1.980000e-14  4.530000e-14  5.810000e-14  1.360000e-13  6.460000e-14   \n",
       "\n",
       "     sc_hr1    sc_hr2    sc_hr3    sc_hr4  sc_extent  sc_ep_8_fmin  \\\n",
       "0  0.389105 -0.002790 -0.401496 -0.120218        0.0  2.650000e-14   \n",
       "1  0.444257  0.119971 -0.443130 -0.331475        0.0  1.430000e-13   \n",
       "2  0.515240  0.000777 -0.370514 -0.495102        0.0  2.010000e-14   \n",
       "3  0.849070  0.559812 -0.026348 -0.400924        0.0  1.580000e-13   \n",
       "4  0.497494  0.319506 -0.113438 -0.504149        0.0  1.360000e-13   \n",
       "\n",
       "   sc_ep_8_fmax  Class  \n",
       "0  9.910000e-14      0  \n",
       "1  1.490000e-13      0  \n",
       "2  6.730000e-14      0  \n",
       "3  2.640000e-13      0  \n",
       "4  1.360000e-13      0  "
      ]
     },
     "execution_count": 3,
     "metadata": {},
     "output_type": "execute_result"
    }
   ],
   "source": [
    "data=pd.read_csv('C:/Users/BHASKAR BOSE/Dropbox/My PC (LAPTOP-7GV3U44E)/Downloads/XMM_ML.csv')\n",
    "data.head()"
   ]
  },
  {
   "cell_type": "code",
   "execution_count": 4,
   "metadata": {},
   "outputs": [
    {
     "name": "stdout",
     "output_type": "stream",
     "text": [
      "Shape of the data is (23017, 19)\n"
     ]
    }
   ],
   "source": [
    "print(\"Shape of the data is {}\".format(data.shape))"
   ]
  },
  {
   "cell_type": "code",
   "execution_count": 5,
   "metadata": {},
   "outputs": [
    {
     "data": {
      "text/plain": [
       "sc_ra             0\n",
       "sc_dec            0\n",
       "sc_poserr         0\n",
       "sc_det_ml         0\n",
       "sc_ep_1_flux      0\n",
       "sc_ep_2_flux      0\n",
       "sc_ep_3_flux      0\n",
       "sc_ep_4_flux      0\n",
       "sc_ep_5_flux      0\n",
       "sc_ep_8_flux      0\n",
       "sc_ep_9_flux      0\n",
       "sc_hr1           34\n",
       "sc_hr2           13\n",
       "sc_hr3           44\n",
       "sc_hr4          246\n",
       "sc_extent         0\n",
       "sc_ep_8_fmin      0\n",
       "sc_ep_8_fmax      0\n",
       "Class             0\n",
       "dtype: int64"
      ]
     },
     "execution_count": 5,
     "metadata": {},
     "output_type": "execute_result"
    }
   ],
   "source": [
    "data.isnull().sum()"
   ]
  },
  {
   "cell_type": "code",
   "execution_count": 6,
   "metadata": {},
   "outputs": [
    {
     "data": {
      "text/plain": [
       "<matplotlib.axes._subplots.AxesSubplot at 0x24964f30448>"
      ]
     },
     "execution_count": 6,
     "metadata": {},
     "output_type": "execute_result"
    },
    {
     "data": {
      "image/png": "[encoded data removed]",
      "text/plain": [
       "<Figure size 432x288 with 2 Axes>"
      ]
     },
     "metadata": {
      "needs_background": "light"
     },
     "output_type": "display_data"
    }
   ],
   "source": [
    "# Some basic EDA to investigate the data\n",
    "\n",
    "data=data.dropna()\n",
    "sns.heatmap(data.corr())"
   ]
  },
  {
   "cell_type": "code",
   "execution_count": 10,
   "metadata": {},
   "outputs": [
    {
     "name": "stderr",
     "output_type": "stream",
     "text": [
      "C:\\Users\\BHASKAR BOSE\\Anaconda3\\lib\\site-packages\\seaborn\\distributions.py:2551: FutureWarning: `distplot` is a deprecated function and will be removed in a future version. Please adapt your code to use either `displot` (a figure-level function with similar flexibility) or `histplot` (an axes-level function for histograms).\n",
      "  warnings.warn(msg, FutureWarning)\n"
     ]
    },
    {
     "data": {
      "text/plain": [
       "<matplotlib.axes._subplots.AxesSubplot at 0x24969065dc8>"
      ]
     },
     "execution_count": 10,
     "metadata": {},
     "output_type": "execute_result"
    },
    {
     "data": {
      "image/png": "[encoded data removed]",
      "text/plain": [
       "<Figure size 432x288 with 1 Axes>"
      ]
     },
     "metadata": {
      "needs_background": "light"
     },
     "output_type": "display_data"
    }
   ],
   "source": [
    "# According to the above plot it seems that sc_hr1 is the most correlated to the Class variable\n",
    "\n",
    "sns.distplot(main_data['sc_hr1'])"
   ]
  },
  {
   "cell_type": "code",
   "execution_count": 7,
   "metadata": {},
   "outputs": [
    {
     "data": {
      "text/html": [
       "<div>\n",
       "<style scoped>\n",
       "    .dataframe tbody tr th:only-of-type {\n",
       "        vertical-align: middle;\n",
       "    }\n",
       "\n",
       "    .dataframe tbody tr th {\n",
       "        vertical-align: top;\n",
       "    }\n",
       "\n",
       "    .dataframe thead th {\n",
       "        text-align: right;\n",
       "    }\n",
       "</style>\n",
       "<table border=\"1\" class=\"dataframe\">\n",
       "  <thead>\n",
       "    <tr style=\"text-align: right;\">\n",
       "      <th></th>\n",
       "      <th>sc_ra</th>\n",
       "      <th>sc_dec</th>\n",
       "      <th>sc_poserr</th>\n",
       "      <th>sc_det_ml</th>\n",
       "      <th>sc_ep_1_flux</th>\n",
       "      <th>sc_ep_2_flux</th>\n",
       "      <th>sc_ep_3_flux</th>\n",
       "      <th>sc_ep_4_flux</th>\n",
       "      <th>sc_ep_5_flux</th>\n",
       "      <th>sc_ep_8_flux</th>\n",
       "      <th>sc_ep_9_flux</th>\n",
       "      <th>sc_hr1</th>\n",
       "      <th>sc_hr2</th>\n",
       "      <th>sc_hr3</th>\n",
       "      <th>sc_hr4</th>\n",
       "      <th>sc_extent</th>\n",
       "      <th>sc_ep_8_fmin</th>\n",
       "      <th>sc_ep_8_fmax</th>\n",
       "    </tr>\n",
       "  </thead>\n",
       "  <tbody>\n",
       "    <tr>\n",
       "      <th>0</th>\n",
       "      <td>-1.623851</td>\n",
       "      <td>0.451717</td>\n",
       "      <td>-0.586389</td>\n",
       "      <td>-0.065919</td>\n",
       "      <td>-0.035704</td>\n",
       "      <td>-0.081287</td>\n",
       "      <td>-0.053214</td>\n",
       "      <td>-0.042491</td>\n",
       "      <td>-0.039007</td>\n",
       "      <td>-0.048602</td>\n",
       "      <td>-0.058635</td>\n",
       "      <td>0.033827</td>\n",
       "      <td>0.061084</td>\n",
       "      <td>0.127151</td>\n",
       "      <td>0.302817</td>\n",
       "      <td>-0.16029</td>\n",
       "      <td>-0.045165</td>\n",
       "      <td>-0.061084</td>\n",
       "    </tr>\n",
       "    <tr>\n",
       "      <th>1</th>\n",
       "      <td>-0.730777</td>\n",
       "      <td>-0.685126</td>\n",
       "      <td>-0.837420</td>\n",
       "      <td>-0.065047</td>\n",
       "      <td>-0.034653</td>\n",
       "      <td>-0.077546</td>\n",
       "      <td>-0.050662</td>\n",
       "      <td>-0.041457</td>\n",
       "      <td>-0.038055</td>\n",
       "      <td>-0.047158</td>\n",
       "      <td>-0.056369</td>\n",
       "      <td>0.186057</td>\n",
       "      <td>0.370809</td>\n",
       "      <td>0.008002</td>\n",
       "      <td>-0.104440</td>\n",
       "      <td>-0.16029</td>\n",
       "      <td>-0.043378</td>\n",
       "      <td>-0.060547</td>\n",
       "    </tr>\n",
       "    <tr>\n",
       "      <th>2</th>\n",
       "      <td>0.026734</td>\n",
       "      <td>-0.230665</td>\n",
       "      <td>-0.567116</td>\n",
       "      <td>-0.065852</td>\n",
       "      <td>-0.035704</td>\n",
       "      <td>-0.081021</td>\n",
       "      <td>-0.053394</td>\n",
       "      <td>-0.042553</td>\n",
       "      <td>-0.039366</td>\n",
       "      <td>-0.048872</td>\n",
       "      <td>-0.058716</td>\n",
       "      <td>0.381981</td>\n",
       "      <td>0.070083</td>\n",
       "      <td>0.215816</td>\n",
       "      <td>-0.419877</td>\n",
       "      <td>-0.16029</td>\n",
       "      <td>-0.045263</td>\n",
       "      <td>-0.061426</td>\n",
       "    </tr>\n",
       "    <tr>\n",
       "      <th>3</th>\n",
       "      <td>-1.238321</td>\n",
       "      <td>0.791147</td>\n",
       "      <td>-0.321538</td>\n",
       "      <td>-0.065964</td>\n",
       "      <td>-0.036073</td>\n",
       "      <td>-0.081400</td>\n",
       "      <td>-0.051210</td>\n",
       "      <td>-0.039614</td>\n",
       "      <td>-0.037523</td>\n",
       "      <td>-0.046565</td>\n",
       "      <td>-0.056725</td>\n",
       "      <td>1.303412</td>\n",
       "      <td>1.480530</td>\n",
       "      <td>1.200751</td>\n",
       "      <td>-0.238322</td>\n",
       "      <td>-0.16029</td>\n",
       "      <td>-0.043148</td>\n",
       "      <td>-0.059310</td>\n",
       "    </tr>\n",
       "    <tr>\n",
       "      <th>4</th>\n",
       "      <td>-0.164149</td>\n",
       "      <td>0.891823</td>\n",
       "      <td>-0.876142</td>\n",
       "      <td>-0.064970</td>\n",
       "      <td>-0.035640</td>\n",
       "      <td>-0.080687</td>\n",
       "      <td>-0.051785</td>\n",
       "      <td>-0.040679</td>\n",
       "      <td>-0.038098</td>\n",
       "      <td>-0.047306</td>\n",
       "      <td>-0.057187</td>\n",
       "      <td>0.332999</td>\n",
       "      <td>0.874238</td>\n",
       "      <td>0.951518</td>\n",
       "      <td>-0.437319</td>\n",
       "      <td>-0.16029</td>\n",
       "      <td>-0.043485</td>\n",
       "      <td>-0.060687</td>\n",
       "    </tr>\n",
       "  </tbody>\n",
       "</table>\n",
       "</div>"
      ],
      "text/plain": [
       "      sc_ra    sc_dec  sc_poserr  sc_det_ml  sc_ep_1_flux  sc_ep_2_flux  \\\n",
       "0 -1.623851  0.451717  -0.586389  -0.065919     -0.035704     -0.081287   \n",
       "1 -0.730777 -0.685126  -0.837420  -0.065047     -0.034653     -0.077546   \n",
       "2  0.026734 -0.230665  -0.567116  -0.065852     -0.035704     -0.081021   \n",
       "3 -1.238321  0.791147  -0.321538  -0.065964     -0.036073     -0.081400   \n",
       "4 -0.164149  0.891823  -0.876142  -0.064970     -0.035640     -0.080687   \n",
       "\n",
       "   sc_ep_3_flux  sc_ep_4_flux  sc_ep_5_flux  sc_ep_8_flux  sc_ep_9_flux  \\\n",
       "0     -0.053214     -0.042491     -0.039007     -0.048602     -0.058635   \n",
       "1     -0.050662     -0.041457     -0.038055     -0.047158     -0.056369   \n",
       "2     -0.053394     -0.042553     -0.039366     -0.048872     -0.058716   \n",
       "3     -0.051210     -0.039614     -0.037523     -0.046565     -0.056725   \n",
       "4     -0.051785     -0.040679     -0.038098     -0.047306     -0.057187   \n",
       "\n",
       "     sc_hr1    sc_hr2    sc_hr3    sc_hr4  sc_extent  sc_ep_8_fmin  \\\n",
       "0  0.033827  0.061084  0.127151  0.302817   -0.16029     -0.045165   \n",
       "1  0.186057  0.370809  0.008002 -0.104440   -0.16029     -0.043378   \n",
       "2  0.381981  0.070083  0.215816 -0.419877   -0.16029     -0.045263   \n",
       "3  1.303412  1.480530  1.200751 -0.238322   -0.16029     -0.043148   \n",
       "4  0.332999  0.874238  0.951518 -0.437319   -0.16029     -0.043485   \n",
       "\n",
       "   sc_ep_8_fmax  \n",
       "0     -0.061084  \n",
       "1     -0.060547  \n",
       "2     -0.061426  \n",
       "3     -0.059310  \n",
       "4     -0.060687  "
      ]
     },
     "execution_count": 7,
     "metadata": {},
     "output_type": "execute_result"
    }
   ],
   "source": [
    "# Standardisation for better training results\n",
    "\n",
    "scaler=preprocessing.StandardScaler()\n",
    "\n",
    "data.index=np.array(range(22715))\n",
    "main_data=data[data.columns[0:-1]]\n",
    "labels=data[data.columns[-1]]\n",
    "columns=main_data.columns\n",
    "\n",
    "main_data=scaler.fit_transform(main_data)\n",
    "main_data\n",
    "\n",
    "main_data=pd.DataFrame(main_data,columns=columns)\n",
    "main_data.head()"
   ]
  },
  {
   "cell_type": "code",
   "execution_count": 7,
   "metadata": {},
   "outputs": [
    {
     "data": {
      "image/png": "[encoded data removed]",
      "text/plain": [
       "<Figure size 432x288 with 1 Axes>"
      ]
     },
     "metadata": {
      "needs_background": "light"
     },
     "output_type": "display_data"
    }
   ],
   "source": [
    "# Lets try to plot the data here according to column\n",
    "# First we reduce the data into its 2 principal components, after which we plot the data according to its column\n",
    "\n",
    "pca=PCA(n_components=2)\n",
    "csv_data=pca.fit_transform(main_data)\n",
    "\n",
    "c1=(1.0,0.0,0.0,1.0)\n",
    "c2=(0.0,1.0,0.0,1.0)\n",
    "c3=(0.0,0.0,1.0,1.0)\n",
    "c4=(1.0,1.0,0.0,1.0)\n",
    "c5=(0.0,1.0,1.0,1.0)\n",
    "c6=(1.0,0.0,1.0,1.0)\n",
    "c7=(1.0,1.0,0.5,1.0)\n",
    "colormap=np.array([c1,c2,c3,c4,c5,c6,c7])\n",
    "\n",
    "label_data=np.array(labels)\n",
    "\n",
    "plt.scatter(csv_data[:,0], csv_data[:,1],s=100, c=colormap[label_data])\n",
    "plt.show()"
   ]
  },
  {
   "cell_type": "code",
   "execution_count": 8,
   "metadata": {},
   "outputs": [],
   "source": [
    "X_train,X_test,Y_train,Y_test = train_test_split(main_data, labels, stratify=labels, test_size=0.2)"
   ]
  },
  {
   "cell_type": "code",
   "execution_count": 9,
   "metadata": {},
   "outputs": [
    {
     "name": "stdout",
     "output_type": "stream",
     "text": [
      "ACCURACY OF THE Random_Forest_Classifier:  0.7569887739379265\n",
      "ACCURACY OF THE XGB_Classifier:  0.7946290997138454\n"
     ]
    }
   ],
   "source": [
    "# This is baseline with no oversampling/undersampling\n",
    "# creating a RF classifier\n",
    "clf = RandomForestClassifier(n_estimators = 100) \n",
    "xgb_clf = xgb.XGBClassifier()\n",
    "\n",
    "# Training the model on the training dataset\n",
    "# fit function is used to train the model using the training sets as parameters\n",
    "clf.fit(X_train, Y_train)\n",
    "xgb_clf.fit(X_train, Y_train)\n",
    "\n",
    "# performing predictions on the test dataset\n",
    "y_pred_rf1 = clf.predict(X_test)\n",
    "y_pred_xgb1 = xgb_clf.predict(X_test)\n",
    "\n",
    "# using metrics module for accuracy calculation\n",
    "print(\"ACCURACY OF THE Random_Forest_Classifier: \", metrics.accuracy_score(Y_test, y_pred_rf1))\n",
    "print(\"ACCURACY OF THE XGB_Classifier: \", metrics.accuracy_score(Y_test, y_pred_xgb1))"
   ]
  },
  {
   "cell_type": "code",
   "execution_count": 11,
   "metadata": {},
   "outputs": [
    {
     "name": "stdout",
     "output_type": "stream",
     "text": [
      "              precision    recall  f1-score   support\n",
      "\n",
      "           0       0.00      0.00      0.00         7\n",
      "           1       0.50      0.14      0.22        35\n",
      "           2       0.80      0.90      0.84      2062\n",
      "           3       0.00      0.00      0.00        52\n",
      "           4       0.80      0.87      0.84      1606\n",
      "           5       0.41      0.23      0.30       771\n",
      "           6       0.25      0.10      0.14        10\n",
      "\n",
      "    accuracy                           0.76      4543\n",
      "   macro avg       0.39      0.32      0.33      4543\n",
      "weighted avg       0.72      0.76      0.73      4543\n",
      "\n"
     ]
    }
   ],
   "source": [
    "print(classification_report(Y_test, y_pred_rf1))"
   ]
  },
  {
   "cell_type": "code",
   "execution_count": 12,
   "metadata": {},
   "outputs": [
    {
     "data": {
      "image/png": "[encoded data removed]",
      "text/plain": [
       "<Figure size 432x288 with 1 Axes>"
      ]
     },
     "metadata": {
      "needs_background": "light"
     },
     "output_type": "display_data"
    }
   ],
   "source": [
    "# Inspecting Class imbalance, here class 2 has the largest number of instances\n",
    "\n",
    "labels_df=pd.DataFrame(labels)\n",
    "labels_df.groupby('Class').size()\n",
    "plt.bar(labels_df.groupby('Class').size().index,labels_df.groupby('Class').size())\n",
    "plt.show()"
   ]
  },
  {
   "cell_type": "code",
   "execution_count": 14,
   "metadata": {},
   "outputs": [],
   "source": [
    "# Introducing SMOTEENN (SMOTE + Edited Nearset Neighbour) to tackle the problem of class imbalance.\n",
    "# For the deficient classes we first use SMOTE to oversample them to have 2000 instances each, following which we use undersampling\n",
    "\n",
    "smt=SMOTEENN(sampling_strategy={0:2000, 1:2000, 3:2000, 6:2000})"
   ]
  },
  {
   "cell_type": "code",
   "execution_count": 15,
   "metadata": {},
   "outputs": [
    {
     "data": {
      "image/png": "[encoded data removed]",
      "text/plain": [
       "<Figure size 432x288 with 1 Axes>"
      ]
     },
     "metadata": {
      "needs_background": "light"
     },
     "output_type": "display_data"
    }
   ],
   "source": [
    "# Visualizing the data after class imbalance problem is tackled.\n",
    "\n",
    "X,Y=smt.fit_resample(main_data, labels)\n",
    "\n",
    "labels_df=pd.DataFrame(Y)\n",
    "labels_df.groupby('Class').size()\n",
    "plt.bar(labels_df.groupby('Class').size().index,labels_df.groupby('Class').size())\n",
    "plt.show()"
   ]
  },
  {
   "cell_type": "code",
   "execution_count": 17,
   "metadata": {},
   "outputs": [],
   "source": [
    "X_train,X_test,Y_train,Y_test = train_test_split(X,Y, stratify=Y, test_size=0.2)"
   ]
  },
  {
   "cell_type": "code",
   "execution_count": 18,
   "metadata": {},
   "outputs": [
    {
     "name": "stdout",
     "output_type": "stream",
     "text": [
      "ACCURACY OF THE Random_Forest_Classifier:  0.9623188405797102\n",
      "ACCURACY OF THE XGB_Classifier:  0.9788405797101449\n"
     ]
    }
   ],
   "source": [
    "# Using RF Classifier and XGB Classifier to classify the modified data. Notice the results.\n",
    "# creating a RF classifier\n",
    "clf = RandomForestClassifier(n_estimators = 100) \n",
    "xgb_clf = xgb.XGBClassifier()\n",
    "\n",
    "# Training the model on the training dataset\n",
    "# fit function is used to train the model using the training sets as parameters\n",
    "clf.fit(X_train, Y_train)\n",
    "xgb_clf.fit(X_train, Y_train)\n",
    "\n",
    "# performing predictions on the test dataset\n",
    "y_pred_rf2 = clf.predict(X_test)\n",
    "y_pred_xgb2 = xgb_clf.predict(X_test)\n",
    "\n",
    "# using metrics module for accuracy calculation\n",
    "print(\"ACCURACY OF THE Random_Forest_Classifier: \", metrics.accuracy_score(Y_test, y_pred_rf2))\n",
    "print(\"ACCURACY OF THE XGB_Classifier: \", metrics.accuracy_score(Y_test, y_pred_xgb2))"
   ]
  },
  {
   "cell_type": "code",
   "execution_count": 19,
   "metadata": {},
   "outputs": [
    {
     "name": "stdout",
     "output_type": "stream",
     "text": [
      "              precision    recall  f1-score   support\n",
      "\n",
      "           0       0.97      0.99      0.98       384\n",
      "           1       0.95      0.94      0.95       352\n",
      "           2       0.96      0.98      0.97      1106\n",
      "           3       0.96      0.88      0.92       302\n",
      "           4       0.94      0.97      0.96       877\n",
      "           5       1.00      0.62      0.76        55\n",
      "           6       0.99      0.99      0.99       374\n",
      "\n",
      "    accuracy                           0.96      3450\n",
      "   macro avg       0.97      0.91      0.93      3450\n",
      "weighted avg       0.96      0.96      0.96      3450\n",
      "\n"
     ]
    }
   ],
   "source": [
    "print(classification_report(Y_test, y_pred_rf1))"
   ]
  },
  {
   "cell_type": "code",
   "execution_count": 20,
   "metadata": {},
   "outputs": [
    {
     "data": {
      "image/png": "[encoded data removed]",
      "text/plain": [
       "<Figure size 864x360 with 2 Axes>"
      ]
     },
     "metadata": {
      "needs_background": "light"
     },
     "output_type": "display_data"
    }
   ],
   "source": [
    "# Which features are the most important.\n",
    "# It seems the initial heatmap plotted gave a good indication of which features are most important.\n",
    "# Feature sc_hr1 is the most important.\n",
    "\n",
    "figs, axes = plt.subplots(1,2)\n",
    "axes[0].bar(X.columns,clf.feature_importances_)\n",
    "axes[1].bar(X.columns,xgb_clf.feature_importances_)\n",
    "\n",
    "figs.set_figwidth(12)\n",
    "figs.set_figheight(5)\n",
    "\n",
    "plt.setp(axes[0].get_xticklabels(), rotation=90)\n",
    "plt.setp(axes[1].get_xticklabels(), rotation=90)\n",
    "\n",
    "axes[0].set_xlabel('RF_Classifier Feature impostances')\n",
    "axes[1].set_xlabel('XGB_Classifier Feature impostances')\n",
    "plt.show()"
   ]
  },
  {
   "cell_type": "code",
   "execution_count": 21,
   "metadata": {},
   "outputs": [],
   "source": [
    "X_train,X_test,Y_train,Y_test = train_test_split(main_data, labels, stratify=labels, test_size=0.2)"
   ]
  },
  {
   "cell_type": "code",
   "execution_count": 22,
   "metadata": {},
   "outputs": [
    {
     "data": {
      "image/png": "[encoded data removed]",
      "text/plain": [
       "<Figure size 432x288 with 1 Axes>"
      ]
     },
     "metadata": {
      "needs_background": "light"
     },
     "output_type": "display_data"
    }
   ],
   "source": [
    "# Lets perform the same experiment as above, but this time slightly different.\n",
    "# Here we first split the data, then we apply SMOTEENN on X_train, this exp will be more relevant.\n",
    "\n",
    "X,Y=smt.fit_resample(X_train, Y_train)\n",
    "\n",
    "labels_df=pd.DataFrame(Y)\n",
    "labels_df.groupby('Class').size()\n",
    "plt.bar(labels_df.groupby('Class').size().index,labels_df.groupby('Class').size())\n",
    "plt.show()"
   ]
  },
  {
   "cell_type": "code",
   "execution_count": 23,
   "metadata": {},
   "outputs": [
    {
     "name": "stdout",
     "output_type": "stream",
     "text": [
      "ACCURACY OF THE Random_Forest_Classifier:  0.7393792648029937\n",
      "ACCURACY OF THE XGB_Classifier:  0.75016508914814\n"
     ]
    }
   ],
   "source": [
    "# Similar procedure of using RF_Classifier and XGB_Classifier but this time on SMOTEENN applied on X_train\n",
    "# creating a RF classifier\n",
    "clf = RandomForestClassifier(n_estimators = 100) \n",
    "xgb_clf = xgb.XGBClassifier()\n",
    "\n",
    "# Training the model on the training dataset\n",
    "# fit function is used to train the model using the training sets as parameters\n",
    "clf.fit(X, Y)\n",
    "xgb_clf.fit(X, Y)\n",
    "\n",
    "# performing predictions on the test dataset\n",
    "y_pred_rf3 = clf.predict(X_test)\n",
    "y_pred_xgb3 = xgb_clf.predict(X_test)\n",
    "\n",
    "# using metrics module for accuracy calculation\n",
    "print(\"ACCURACY OF THE Random_Forest_Classifier: \", metrics.accuracy_score(Y_test, y_pred_rf3))\n",
    "print(\"ACCURACY OF THE XGB_Classifier: \", metrics.accuracy_score(Y_test, y_pred_xgb3))"
   ]
  },
  {
   "cell_type": "code",
   "execution_count": 24,
   "metadata": {},
   "outputs": [
    {
     "name": "stdout",
     "output_type": "stream",
     "text": [
      "              precision    recall  f1-score   support\n",
      "\n",
      "           0       0.00      0.00      0.00         7\n",
      "           1       0.15      0.43      0.23        35\n",
      "           2       0.79      0.90      0.84      2062\n",
      "           3       0.12      0.35      0.18        52\n",
      "           4       0.79      0.89      0.84      1606\n",
      "           5       0.82      0.06      0.12       771\n",
      "           6       0.12      0.70      0.20        10\n",
      "\n",
      "    accuracy                           0.74      4543\n",
      "   macro avg       0.40      0.47      0.34      4543\n",
      "weighted avg       0.78      0.74      0.70      4543\n",
      "\n"
     ]
    }
   ],
   "source": [
    "# It seems that this procedure gives even worse results than the baseline, Explanation given in README.\n",
    "\n",
    "print(classification_report(Y_test, y_pred_rf1))"
   ]
  },
  {
   "cell_type": "code",
   "execution_count": 25,
   "metadata": {},
   "outputs": [
    {
     "data": {
      "text/plain": [
       "array([[   0,    0,    6,    1,    0,    0,    0],\n",
       "       [   0,   15,    7,    2,    7,    0,    4],\n",
       "       [  26,   19, 1847,   57,   97,    8,    8],\n",
       "       [   1,    6,   21,   18,    5,    1,    0],\n",
       "       [   6,   38,   96,   14, 1423,    2,   27],\n",
       "       [  12,   18,  367,   56,  256,   49,   13],\n",
       "       [   0,    1,    0,    0,    2,    0,    7]], dtype=int64)"
      ]
     },
     "execution_count": 25,
     "metadata": {},
     "output_type": "execute_result"
    }
   ],
   "source": [
    "# This is how the confusion matrix looks like, the diagnol elements are the True Positives.\n",
    "\n",
    "confusion_matrix(Y_test, y_pred_rf1)"
   ]
  },
  {
   "cell_type": "code",
   "execution_count": 34,
   "metadata": {},
   "outputs": [
    {
     "data": {
      "image/png": "[encoded data removed]",
      "text/plain": [
       "<Figure size 648x360 with 1 Axes>"
      ]
     },
     "metadata": {
      "needs_background": "light"
     },
     "output_type": "display_data"
    }
   ],
   "source": [
    "# Plotting the results as a bar graph, notice that the baseline results are better than the results for SMOTEENN applied only on X_train\n",
    "\n",
    "N = 2\n",
    "ind = np.arange(N) \n",
    "width = 0.25\n",
    "\n",
    "fig = plt.subplots(figsize=(9,5))\n",
    "xvals = [metrics.accuracy_score(Y_test, y_pred_rf1), metrics.accuracy_score(Y_test, y_pred_xgb1)]\n",
    "bar1 = plt.bar(ind, xvals, width, color = 'r')\n",
    "  \n",
    "yvals = [metrics.accuracy_score(Y_test, y_pred_rf2), metrics.accuracy_score(Y_test, y_pred_xgb2)]\n",
    "bar2 = plt.bar(ind+width, yvals, width, color='g')\n",
    "  \n",
    "zvals = [metrics.accuracy_score(Y_test, y_pred_rf3), metrics.accuracy_score(Y_test, y_pred_xgb3)]\n",
    "bar3 = plt.bar(ind+width*2, zvals, width, color = 'b')\n",
    "  \n",
    "plt.xlabel(\"Classifier\")\n",
    "plt.ylabel('Scores')\n",
    "plt.title(\"Comparison of different techniques\")\n",
    "  \n",
    "plt.xticks(ind+width,['RandomForest_Classifer','XGB_Classifier'])\n",
    "plt.legend( (bar1, bar2, bar3), ('Baseline', 'SMOTEENN_full', 'SMOTEENN_partial') )\n",
    "plt.show()"
   ]
  },
  {
   "cell_type": "code",
   "execution_count": null,
   "metadata": {},
   "outputs": [],
   "source": []
  },
  {
   "cell_type": "code",
   "execution_count": null,
   "metadata": {},
   "outputs": [],
   "source": []
  },
  {
   "cell_type": "code",
   "execution_count": null,
   "metadata": {},
   "outputs": [],
   "source": []
  },
  {
   "cell_type": "code",
   "execution_count": null,
   "metadata": {},
   "outputs": [],
   "source": []
  }
 ],
 "metadata": {
  "kernelspec": {
   "display_name": "Python 3",
   "language": "python",
   "name": "python3"
  },
  "language_info": {
   "codemirror_mode": {
    "name": "ipython",
    "version": 3
   },
   "file_extension": ".py",
   "mimetype": "text/x-python",
   "name": "python",
   "nbconvert_exporter": "python",
   "pygments_lexer": "ipython3",
   "version": "3.7.6"
  }
 },
 "nbformat": 4,
 "nbformat_minor": 4
}
